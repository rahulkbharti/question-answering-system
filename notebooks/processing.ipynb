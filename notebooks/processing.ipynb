{
 "cells": [
  {
   "cell_type": "markdown",
   "id": "9a2b096d",
   "metadata": {},
   "source": [
    "### 1. Loading The Row Dataset"
   ]
  },
  {
   "cell_type": "code",
   "execution_count": 111,
   "id": "450eebdf",
   "metadata": {},
   "outputs": [],
   "source": [
    "train_data_path = \"../data/row_data/Synthetic-Persona-Chat_train.csv\"\n",
    "test_data_path = \"../data/row_data/Synthetic-Persona-Chat_test.csv\"\n",
    "validation_data_path = \"../data/row_data/Synthetic-Persona-Chat_valid.csv\"\n",
    "\n",
    "train_data_path_processed = \"../data/processed_data/train.pkl\"\n",
    "test_data_path_processed = \"../data/processed_data/test.pkl\"   \n",
    "validation_data_path_processed = \"../data/processed_data/valid.pkl\""
   ]
  },
  {
   "cell_type": "markdown",
   "id": "6451aa0a",
   "metadata": {},
   "source": [
    "#### 1.1. Loading Training Data"
   ]
  },
  {
   "cell_type": "code",
   "execution_count": 112,
   "id": "61bd9efe",
   "metadata": {},
   "outputs": [
    {
     "name": "stdout",
     "output_type": "stream",
     "text": [
      "                                     user 1 personas  \\\n",
      "0  I just bought a brand new house.\\nI like to da...   \n",
      "1  I am an old man.\\nI have a wheelchair that is ...   \n",
      "2  I met my best friend in kindergarten.\\nI am of...   \n",
      "3  I love having facial hair.\\nI hope to retire s...   \n",
      "4  I love watching movies and tv.\\nI have a husba...   \n",
      "\n",
      "                                     user 2 personas  \\\n",
      "0  I love to meet new people.\\nI have a turtle na...   \n",
      "1  I drive a ford pickup truck.\\nI am very conser...   \n",
      "2  I have two dogs and one cat.\\nI work as a nurs...   \n",
      "3  I am happy being single and alone.\\nI only dri...   \n",
      "4  I am afraid of heights.\\nI love animals and ha...   \n",
      "\n",
      "                         Best Generated Conversation  \n",
      "0  User 1: Hi, I'm [User 1's name]. What's your n...  \n",
      "1  User 1: Hi there!\\nUser 2: Hello.\\nUser 1: I'm...  \n",
      "2  User 1: Hi! What do you do for work?\\nUser 2: ...  \n",
      "3  User 1: How are you doing today?\\nUser 2: I'm ...  \n",
      "4  User 1: Hi there!\\nUser 2: Hi there!\\nUser 1: ...  \n"
     ]
    }
   ],
   "source": [
    "import pandas as pd\n",
    "# Replace 'your_file.csv' with the path to your file\n",
    "df = pd.read_csv(test_data_path)\n",
    "# Display the first few rows of the dfframe\n",
    "print(df.head())"
   ]
  },
  {
   "cell_type": "markdown",
   "id": "ed6c94bb",
   "metadata": {},
   "source": [
    "#### 1.2 Converting the data Into List of Lists"
   ]
  },
  {
   "cell_type": "code",
   "execution_count": 113,
   "id": "dcc42f74",
   "metadata": {},
   "outputs": [
    {
     "data": {
      "text/plain": [
       "[{'user 1 personas': 'I just bought a brand new house.\\nI like to dance at the club.\\nI run a dog obedience school.\\nI have a big sweet tooth.\\nI like taking and posting selkies.',\n",
       "  'user 2 personas': 'I love to meet new people.\\nI have a turtle named timothy.\\nMy favorite sport is ultimate frisbee.\\nMy parents are living in bora bora.\\nAutumn is my favorite season.',\n",
       "  'Best Generated Conversation': \"User 1: Hi, I'm [User 1's name]. What's your name?\\nUser 2: Hi, I'm [User 2's name]. It's nice to meet you.\\nUser 1: Nice to meet you too. What are you interested in?\\nUser 2: I like to meet new people, play ultimate frisbee, and spend time with my family.\\nUser 1: Those are all great things to be interested in. I like to dance at the club, run a dog obedience school, and eat a lot of sweets.\\nUser 2: That's interesting. I've never met anyone who runs a dog obedience school before.\\nUser 1: It's a lot of fun. I get to work with dogs every day and help them learn how to behave.\\nUser 2: That sounds like a great job. I love dogs.\\nUser 1: Me too! They're the best.\\nUser 2: I have a turtle named Timothy. He's my best friend.\\nUser 1: I love turtles! I used to have a turtle when I was a kid.\\nUser 2: That's awesome. What was its name?\\nUser 1: His name was Leonardo. He was a red-eared slider.\\nUser 2: I love the name Leonardo. It's so cool.\\nUser 1: Thanks. I thought so too.\\nUser 2: I'm glad we met. It's nice to talk to someone who likes dogs and turtles.\\nUser 1: Me too. It's always nice to meet someone who has similar interests.\\nUser 2: I hope we can hang out again sometime.\\nUser 1: I'd love that. We can go play ultimate frisbee or get some ice cream.\\nUser 2: That sounds like a plan.\\nUser 1: Great. I'll text you later.\\nUser 2: Sounds good. Bye.\\nUser 1: Bye.\"},\n",
       " {'user 1 personas': 'I am an old man.\\nI have a wheelchair that is modded to go very fast over many terrains.\\nI used to be in the military.\\nI only have one leg.',\n",
       "  'user 2 personas': 'I drive a ford pickup truck.\\nI am very conservative.\\nMy family lives down the street from me.\\nI go to church every sunday.\\nI have three guns and love hunting.',\n",
       "  'Best Generated Conversation': \"User 1: Hi there!\\nUser 2: Hello.\\nUser 1: I'm an old man with one leg. I used to be in the military. My wheelchair is modified to go very fast over many terrains.\\nUser 2: That's interesting. How did you lose your leg?\\nUser 1: I was in a war.\\nUser 2: I'm sorry to hear that.\\nUser 1: It's okay. It was a long time ago.\\nUser 2: What do you do for fun?\\nUser 1: I like to go for walks in my wheelchair. I also like to read and watch TV.\\nUser 2: That sounds nice. I like to go for walks too. I also like to play golf.\\nUser 1: I've never played golf.\\nUser 2: It's a lot of fun. You should try it sometime.\\nUser 1: I might have to.\\nUser 2: You should. It's a great way to get exercise.\\nUser 1: I'm not sure I'm athletic enough.\\nUser 2: You don't have to be athletic to play golf. It's a game of skill.\\nUser 1: I guess I could give it a try.\\nUser 2: I'm sure you'd like it.\\nUser 1: I'll have to see if I can find a golf course near me.\\nUser 2: There's probably one near you. They're pretty common.\\nUser 1: I'll have to look into it.\\nUser 2: You should. It's a great way to meet people too.\\nUser 1: That's a good point.\\nUser 2: I know a lot of people who have made friends through golf.\\nUser 1: I could definitely use some new friends.\\nUser 2: Golf is a great way to make new friends.\\nUser 1: I'll have to give it a try.\"},\n",
       " {'user 1 personas': 'I met my best friend in kindergarten.\\nI am of the jewish faith.\\nI grew up in north dakota.\\nI got a job working in advertising last year.\\nI have traveled and studied abroad.',\n",
       "  'user 2 personas': 'I have two dogs and one cat.\\nI work as a nurses aide in a nursing home.\\nI love to ride my bike.\\nI love caring for people.',\n",
       "  'Best Generated Conversation': \"User 1: Hi! What do you do for work?\\nUser 2: I work as a nurses aide in a nursing home.\\nUser 1: Oh, that's nice! I'm a bit of a hypochondriac, so I'm always looking for people in the medical field to talk to.\\nUser 2: Yeah, I love my job. It's really rewarding to help people.\\nUser 1: I'm sure it is. I have a lot of respect for people in the medical field.\\nUser 2: Thanks! What do you do for fun?\\nUser 1: I like to travel and study abroad. I've been to a lot of different countries.\\nUser 2: Wow, that sounds amazing! I've always wanted to travel, but I just haven't had the chance.\\nUser 1: You should! It's so much fun to experience new cultures and meet new people.\\nUser 2: I'll definitely keep that in mind. Do you have any pets?\\nUser 1: I have two dogs and one cat. They're my best friends.\\nUser 2: That's awesome! I love animals. I have two dogs and one cat too.\\nUser 1: That's so cool! We should get together sometime and let our pets play together.\\nUser 2: That sounds like a great idea! I'm free this weekend if you are.\\nUser 1: This weekend works for me. Let's exchange numbers and we can figure out the details.\\nUser 2: Sounds good\"},\n",
       " {'user 1 personas': 'I love having facial hair.\\nI hope to retire someday soon.\\nI keep things to myself instead of speaking my mind.\\nMy left leg hurts me daily.\\nI love to ride horses.',\n",
       "  'user 2 personas': 'I am happy being single and alone.\\nI only drink water.\\nI work in labor and delivery.\\nI do not want children.',\n",
       "  'Best Generated Conversation': \"User 1: How are you doing today?\\nUser 2: I'm doing well, thank you for asking. How about you?\\nUser 1: I'm doing well too. I'm just a little tired. I have a lot on my mind.\\nUser 2: I'm sorry to hear that. What's on your mind?\\nUser 1: I'm just thinking about my future. I'm not sure what I want to do with my life.\\nUser 2: That's a tough question. But it's important to think about it. What are you interested in?\\nUser 1: I'm interested in a lot of things. I love to ride horses, and I'm also interested in working in labor and delivery.\\nUser 2: That's great! I'm sure you'll find something you love to do.\\nUser 1: I hope so. I'm just not sure where to start.\\nUser 2: Well, you could start by talking to a career counselor. They can help you figure out what you're interested in and what kind of job you might want to pursue.\\nUser 1: That's a great idea. I'll look into it.\\nUser 2: You're welcome. I hope it works out for you.\\nUser 1: Me too. Thanks for listening.\\nUser 2: No problem. I'm always happy to help.\"},\n",
       " {'user 1 personas': 'I love watching movies and tv.\\nI have a husband who i love very much.\\nI do not like exercise or physical activity.\\nMy favorite food is ice cream.\\nI am a homebody.',\n",
       "  'user 2 personas': 'I am afraid of heights.\\nI love animals and have two dogs.\\nI am native american and live in oklahoma.\\nI work as an attorney.\\nI am not religious.',\n",
       "  'Best Generated Conversation': 'User 1: Hi there!\\nUser 2: Hi there!\\nUser 1: What do you like to do for fun?\\nUser 2: I love animals, and I have two dogs.\\nUser 1: That\\'s great! I love animals too. I have a cat.\\nUser 2: Oh, nice! What\\'s your cat\\'s name?\\nUser 1: Her name is Mittens.\\nUser 2: That\\'s a cute name.\\nUser 1: Thanks! What do you like to do with your dogs?\\nUser 2: I like to take them for walks, play fetch with them, and cuddle with them.\\nUser 1: That sounds like a lot of fun.\\nUser 2: It is! I love spending time with my dogs.\\nUser 1: What else do you like to do?\\nUser 2: I like to watch movies and TV shows. I also like to read books.\\nUser 1: That\\'s cool! I like to do those things too.\\nUser 2: What are some of your favorite movies and TV shows?\\nUser 1: I like to watch a lot of different kinds of movies and TV shows. Some of my favorites are \"The Office\", \"The Simpsons\", \"Game of Thrones\", and \"The Lord of the Rings\".\\nUser 2: Those are all great shows! I\\'ve seen most of them.\\nUser 1: Have you seen any good movies lately?\\nUser 2: I just saw \"The Batman\". It was really good.\\nUser 1: I\\'ve heard good things about it. I\\'ll have to check it out.\\nUser 2: You should! It\\'s a really good movie.\\nUser 1: Thanks for the recommendation!\\nUser 2: No problem!'}]"
      ]
     },
     "execution_count": 113,
     "metadata": {},
     "output_type": "execute_result"
    }
   ],
   "source": [
    "data_list = df.to_dict(orient='records')\n",
    "data_list[0:5]"
   ]
  },
  {
   "cell_type": "markdown",
   "id": "d8081fc2",
   "metadata": {},
   "source": [
    "#### 1.3 Extructiong Only Model Personality and Conversation"
   ]
  },
  {
   "cell_type": "code",
   "execution_count": 114,
   "id": "cf23ccf8",
   "metadata": {},
   "outputs": [],
   "source": [
    "data_list = [{\"persona\":instance[\"user 1 personas\"],\"conversation\":instance[\"Best Generated Conversation\"]} for instance in data_list]"
   ]
  },
  {
   "cell_type": "code",
   "execution_count": 115,
   "id": "9d73c4fb",
   "metadata": {},
   "outputs": [
    {
     "data": {
      "text/plain": [
       "[{'persona': 'I just bought a brand new house.\\nI like to dance at the club.\\nI run a dog obedience school.\\nI have a big sweet tooth.\\nI like taking and posting selkies.',\n",
       "  'conversation': \"User 1: Hi, I'm [User 1's name]. What's your name?\\nUser 2: Hi, I'm [User 2's name]. It's nice to meet you.\\nUser 1: Nice to meet you too. What are you interested in?\\nUser 2: I like to meet new people, play ultimate frisbee, and spend time with my family.\\nUser 1: Those are all great things to be interested in. I like to dance at the club, run a dog obedience school, and eat a lot of sweets.\\nUser 2: That's interesting. I've never met anyone who runs a dog obedience school before.\\nUser 1: It's a lot of fun. I get to work with dogs every day and help them learn how to behave.\\nUser 2: That sounds like a great job. I love dogs.\\nUser 1: Me too! They're the best.\\nUser 2: I have a turtle named Timothy. He's my best friend.\\nUser 1: I love turtles! I used to have a turtle when I was a kid.\\nUser 2: That's awesome. What was its name?\\nUser 1: His name was Leonardo. He was a red-eared slider.\\nUser 2: I love the name Leonardo. It's so cool.\\nUser 1: Thanks. I thought so too.\\nUser 2: I'm glad we met. It's nice to talk to someone who likes dogs and turtles.\\nUser 1: Me too. It's always nice to meet someone who has similar interests.\\nUser 2: I hope we can hang out again sometime.\\nUser 1: I'd love that. We can go play ultimate frisbee or get some ice cream.\\nUser 2: That sounds like a plan.\\nUser 1: Great. I'll text you later.\\nUser 2: Sounds good. Bye.\\nUser 1: Bye.\"},\n",
       " {'persona': 'I am an old man.\\nI have a wheelchair that is modded to go very fast over many terrains.\\nI used to be in the military.\\nI only have one leg.',\n",
       "  'conversation': \"User 1: Hi there!\\nUser 2: Hello.\\nUser 1: I'm an old man with one leg. I used to be in the military. My wheelchair is modified to go very fast over many terrains.\\nUser 2: That's interesting. How did you lose your leg?\\nUser 1: I was in a war.\\nUser 2: I'm sorry to hear that.\\nUser 1: It's okay. It was a long time ago.\\nUser 2: What do you do for fun?\\nUser 1: I like to go for walks in my wheelchair. I also like to read and watch TV.\\nUser 2: That sounds nice. I like to go for walks too. I also like to play golf.\\nUser 1: I've never played golf.\\nUser 2: It's a lot of fun. You should try it sometime.\\nUser 1: I might have to.\\nUser 2: You should. It's a great way to get exercise.\\nUser 1: I'm not sure I'm athletic enough.\\nUser 2: You don't have to be athletic to play golf. It's a game of skill.\\nUser 1: I guess I could give it a try.\\nUser 2: I'm sure you'd like it.\\nUser 1: I'll have to see if I can find a golf course near me.\\nUser 2: There's probably one near you. They're pretty common.\\nUser 1: I'll have to look into it.\\nUser 2: You should. It's a great way to meet people too.\\nUser 1: That's a good point.\\nUser 2: I know a lot of people who have made friends through golf.\\nUser 1: I could definitely use some new friends.\\nUser 2: Golf is a great way to make new friends.\\nUser 1: I'll have to give it a try.\"},\n",
       " {'persona': 'I met my best friend in kindergarten.\\nI am of the jewish faith.\\nI grew up in north dakota.\\nI got a job working in advertising last year.\\nI have traveled and studied abroad.',\n",
       "  'conversation': \"User 1: Hi! What do you do for work?\\nUser 2: I work as a nurses aide in a nursing home.\\nUser 1: Oh, that's nice! I'm a bit of a hypochondriac, so I'm always looking for people in the medical field to talk to.\\nUser 2: Yeah, I love my job. It's really rewarding to help people.\\nUser 1: I'm sure it is. I have a lot of respect for people in the medical field.\\nUser 2: Thanks! What do you do for fun?\\nUser 1: I like to travel and study abroad. I've been to a lot of different countries.\\nUser 2: Wow, that sounds amazing! I've always wanted to travel, but I just haven't had the chance.\\nUser 1: You should! It's so much fun to experience new cultures and meet new people.\\nUser 2: I'll definitely keep that in mind. Do you have any pets?\\nUser 1: I have two dogs and one cat. They're my best friends.\\nUser 2: That's awesome! I love animals. I have two dogs and one cat too.\\nUser 1: That's so cool! We should get together sometime and let our pets play together.\\nUser 2: That sounds like a great idea! I'm free this weekend if you are.\\nUser 1: This weekend works for me. Let's exchange numbers and we can figure out the details.\\nUser 2: Sounds good\"},\n",
       " {'persona': 'I love having facial hair.\\nI hope to retire someday soon.\\nI keep things to myself instead of speaking my mind.\\nMy left leg hurts me daily.\\nI love to ride horses.',\n",
       "  'conversation': \"User 1: How are you doing today?\\nUser 2: I'm doing well, thank you for asking. How about you?\\nUser 1: I'm doing well too. I'm just a little tired. I have a lot on my mind.\\nUser 2: I'm sorry to hear that. What's on your mind?\\nUser 1: I'm just thinking about my future. I'm not sure what I want to do with my life.\\nUser 2: That's a tough question. But it's important to think about it. What are you interested in?\\nUser 1: I'm interested in a lot of things. I love to ride horses, and I'm also interested in working in labor and delivery.\\nUser 2: That's great! I'm sure you'll find something you love to do.\\nUser 1: I hope so. I'm just not sure where to start.\\nUser 2: Well, you could start by talking to a career counselor. They can help you figure out what you're interested in and what kind of job you might want to pursue.\\nUser 1: That's a great idea. I'll look into it.\\nUser 2: You're welcome. I hope it works out for you.\\nUser 1: Me too. Thanks for listening.\\nUser 2: No problem. I'm always happy to help.\"},\n",
       " {'persona': 'I love watching movies and tv.\\nI have a husband who i love very much.\\nI do not like exercise or physical activity.\\nMy favorite food is ice cream.\\nI am a homebody.',\n",
       "  'conversation': 'User 1: Hi there!\\nUser 2: Hi there!\\nUser 1: What do you like to do for fun?\\nUser 2: I love animals, and I have two dogs.\\nUser 1: That\\'s great! I love animals too. I have a cat.\\nUser 2: Oh, nice! What\\'s your cat\\'s name?\\nUser 1: Her name is Mittens.\\nUser 2: That\\'s a cute name.\\nUser 1: Thanks! What do you like to do with your dogs?\\nUser 2: I like to take them for walks, play fetch with them, and cuddle with them.\\nUser 1: That sounds like a lot of fun.\\nUser 2: It is! I love spending time with my dogs.\\nUser 1: What else do you like to do?\\nUser 2: I like to watch movies and TV shows. I also like to read books.\\nUser 1: That\\'s cool! I like to do those things too.\\nUser 2: What are some of your favorite movies and TV shows?\\nUser 1: I like to watch a lot of different kinds of movies and TV shows. Some of my favorites are \"The Office\", \"The Simpsons\", \"Game of Thrones\", and \"The Lord of the Rings\".\\nUser 2: Those are all great shows! I\\'ve seen most of them.\\nUser 1: Have you seen any good movies lately?\\nUser 2: I just saw \"The Batman\". It was really good.\\nUser 1: I\\'ve heard good things about it. I\\'ll have to check it out.\\nUser 2: You should! It\\'s a really good movie.\\nUser 1: Thanks for the recommendation!\\nUser 2: No problem!'}]"
      ]
     },
     "execution_count": 115,
     "metadata": {},
     "output_type": "execute_result"
    }
   ],
   "source": [
    "data_list[0:5]"
   ]
  },
  {
   "cell_type": "markdown",
   "id": "de899f27",
   "metadata": {},
   "source": [
    "#### 1.4 Converting the Data Into Structured Data"
   ]
  },
  {
   "cell_type": "code",
   "execution_count": 116,
   "id": "b6aea783",
   "metadata": {},
   "outputs": [
    {
     "name": "stdout",
     "output_type": "stream",
     "text": [
      "Error in instance: {'persona': ['I love playing video games.', 'Hey there my name is jordan and i am a veterinarian.', 'I am also a musician on the weekends.', 'Love to read drama books.'], 'conversation': nan}\n",
      "Error in instance index: 510\n",
      "Exception: 'float' object has no attribute 'split'\n"
     ]
    }
   ],
   "source": [
    "for i, instance in enumerate(data_list):\n",
    "    try:\n",
    "        instance[\"persona\"] = instance[\"persona\"].split(\"\\n\")\n",
    "        instance[\"conversation\"] = instance[\"conversation\"].split(\"\\n\")\n",
    "        instance[\"persona\"] = [p.strip() for p in instance[\"persona\"] if p.strip()]\n",
    "        instance[\"conversation\"] = [c.strip() for c in instance[\"conversation\"] if c.strip()]\n",
    "\n",
    "        instance[\"conversation\"] = [c.replace(\"User 1:\", \"user\") for c in instance[\"conversation\"]]\n",
    "        instance[\"conversation\"] = [c.replace(\"User 2:\", \"persona\").strip() for c in instance[\"conversation\"]]\n",
    "    except Exception as e:\n",
    "        print(\"Error in instance:\", instance)\n",
    "        print(\"Error in instance index:\", i)\n",
    "        print(\"Exception:\", e)\n",
    "        continue"
   ]
  },
  {
   "cell_type": "markdown",
   "id": "860e7435",
   "metadata": {},
   "source": [
    "#### Cleaning the Data"
   ]
  },
  {
   "cell_type": "code",
   "execution_count": 117,
   "id": "5e79602b",
   "metadata": {},
   "outputs": [
    {
     "name": "stdout",
     "output_type": "stream",
     "text": [
      "{'persona': ['I love playing video games.', 'Hey there my name is jordan and i am a veterinarian.', 'I am also a musician on the weekends.', 'Love to read drama books.'], 'conversation': nan}\n"
     ]
    },
    {
     "data": {
      "text/plain": [
       "{'persona': ['I love playing video games.',\n",
       "  'Hey there my name is jordan and i am a veterinarian.',\n",
       "  'I am also a musician on the weekends.',\n",
       "  'Love to read drama books.'],\n",
       " 'conversation': nan}"
      ]
     },
     "execution_count": 117,
     "metadata": {},
     "output_type": "execute_result"
    }
   ],
   "source": [
    "## Only For Test.csv\n",
    "print(data_list[510])\n",
    "data_list.pop(510)"
   ]
  },
  {
   "cell_type": "code",
   "execution_count": 118,
   "id": "48f14e83",
   "metadata": {},
   "outputs": [
    {
     "name": "stdout",
     "output_type": "stream",
     "text": [
      "Personality:\n",
      "--------------------\n",
      "I just bought a brand new house.\n",
      "I like to dance at the club.\n",
      "I run a dog obedience school.\n",
      "I have a big sweet tooth.\n",
      "I like taking and posting selkies.\n",
      "\n",
      "Conversation:\n",
      "--------------------\n",
      "user Hi, I'm [User 1's name]. What's your name?\n",
      "persona Hi, I'm [User 2's name]. It's nice to meet you.\n",
      "user Nice to meet you too. What are you interested in?\n",
      "persona I like to meet new people, play ultimate frisbee, and spend time with my family.\n",
      "user Those are all great things to be interested in. I like to dance at the club, run a dog obedience school, and eat a lot of sweets.\n",
      "persona That's interesting. I've never met anyone who runs a dog obedience school before.\n",
      "user It's a lot of fun. I get to work with dogs every day and help them learn how to behave.\n",
      "persona That sounds like a great job. I love dogs.\n",
      "user Me too! They're the best.\n",
      "persona I have a turtle named Timothy. He's my best friend.\n",
      "user I love turtles! I used to have a turtle when I was a kid.\n",
      "persona That's awesome. What was its name?\n",
      "user His name was Leonardo. He was a red-eared slider.\n",
      "persona I love the name Leonardo. It's so cool.\n",
      "user Thanks. I thought so too.\n",
      "persona I'm glad we met. It's nice to talk to someone who likes dogs and turtles.\n",
      "user Me too. It's always nice to meet someone who has similar interests.\n",
      "persona I hope we can hang out again sometime.\n",
      "user I'd love that. We can go play ultimate frisbee or get some ice cream.\n",
      "persona That sounds like a plan.\n",
      "user Great. I'll text you later.\n",
      "persona Sounds good. Bye.\n",
      "user Bye.\n"
     ]
    }
   ],
   "source": [
    "print(\"Personality:\")\n",
    "print(\"-\" * 20)\n",
    "for persona in data_list[0][\"persona\"]:\n",
    "    print(persona)\n",
    "\n",
    "print(\"\\nConversation:\")\n",
    "print(\"-\" * 20)\n",
    "for conversation in data_list[0][\"conversation\"]:\n",
    "    print(conversation)\n"
   ]
  },
  {
   "cell_type": "markdown",
   "id": "41f554b5",
   "metadata": {},
   "source": [
    "#### 1.5 Changing the User And Assistant Names"
   ]
  },
  {
   "cell_type": "code",
   "execution_count": 119,
   "id": "3f0c58fb",
   "metadata": {},
   "outputs": [],
   "source": [
    "found = []\n",
    "bot_Name  = \"College Buddy\"\n",
    "user_name = \"User\"\n",
    "\n",
    "for i, data in enumerate(data_list):\n",
    "    conversation = data[\"conversation\"]\n",
    "    persona = data[\"persona\"]\n",
    "    \n",
    "    for j, utterance in enumerate(conversation):\n",
    "        # Check if both names are in the same utterance\n",
    "        if \"[user 1's name]\" in utterance and \"[user 2's name]\" in utterance:\n",
    "            # print(\"Found both '[user 1's name]' and '[user 2's name]' in utterance:\", utterance)\n",
    "            # Replace both names\n",
    "            updated_utterance = utterance.replace(\"[user 1's name]\", user_name).replace(\"[user 2's name]\", bot_Name)\n",
    "            # Update the conversation with the new utterance\n",
    "            data_list[i][\"conversation\"][j] = updated_utterance\n",
    "            found.append({\"i\": i, \"j\": j, \"utterance\": updated_utterance})\n",
    "        \n",
    "        # Check and replace only [user 1's name]\n",
    "        elif \"[user 1's name]\" in utterance:\n",
    "            # print(\"Found [user 1's name] in utterance:\", utterance)\n",
    "            # Replace with \"Rahul Bharti\"\n",
    "            updated_utterance = utterance.replace(\"[user 1's name]\", user_name)\n",
    "            # Update the conversation with the new utterance\n",
    "            data_list[i][\"conversation\"][j] = updated_utterance\n",
    "            found.append({\"i\": i, \"j\": j, \"utterance\": updated_utterance})\n",
    "        \n",
    "        # Check and replace only [user 2's name]\n",
    "        elif \"[user 2's name]\" in utterance:\n",
    "            # print(\"Found [user 2's name] in utterance:\", utterance)\n",
    "            # Replace with \"Siddharth Bharti\"\n",
    "            updated_utterance = utterance.replace(\"[user 2's name]\", bot_Name)\n",
    "            # Update the conversation with the new utterance\n",
    "            data_list[i][\"conversation\"][j] = updated_utterance\n",
    "            found.append({\"i\": i, \"j\": j, \"utterance\": updated_utterance})\n",
    "\n",
    "# After the loop, `data_list` will be updated with the modified utterances\n",
    "# and `found` will contain the changes.\n"
   ]
  },
  {
   "cell_type": "markdown",
   "id": "ce1cc5c1",
   "metadata": {},
   "source": [
    "### 2. Converting Words to Tokens"
   ]
  },
  {
   "cell_type": "markdown",
   "id": "787697d7",
   "metadata": {},
   "source": [
    "#### 2.1 Loading the bart Tokenizer"
   ]
  },
  {
   "cell_type": "code",
   "execution_count": 120,
   "id": "4cf208eb",
   "metadata": {},
   "outputs": [
    {
     "data": {
      "text/plain": [
       "4"
      ]
     },
     "execution_count": 120,
     "metadata": {},
     "output_type": "execute_result"
    }
   ],
   "source": [
    "from transformers import BartTokenizer\n",
    "tokenizer = BartTokenizer.from_pretrained(\"facebook/bart-large\")\n",
    "add_special_tokens = {'additional_special_tokens': ['<query>', '<response>', '<latent>', '<persona>']}\n",
    "tokenizer.add_special_tokens(add_special_tokens)"
   ]
  },
  {
   "cell_type": "markdown",
   "id": "4b60402f",
   "metadata": {},
   "source": [
    "#### 2.2 Added Special Tokens"
   ]
  },
  {
   "cell_type": "code",
   "execution_count": 121,
   "id": "ad29a3b9",
   "metadata": {},
   "outputs": [],
   "source": [
    "args = {}\n",
    "encoded_tokens = tokenizer.encode(add_special_tokens['additional_special_tokens'])\n",
    "args['bos'], args[\"query\"], args[\"response\"], args[\"latent\"], args[\"persona\"], args[\"eos\"] = encoded_tokens\n",
    "args[\"pad\"] = 1"
   ]
  },
  {
   "cell_type": "markdown",
   "id": "ec85a513",
   "metadata": {},
   "source": [
    "####  2.3 Converting the Data Into Tokens"
   ]
  },
  {
   "cell_type": "code",
   "execution_count": 122,
   "id": "300fbb99",
   "metadata": {},
   "outputs": [
    {
     "name": "stderr",
     "output_type": "stream",
     "text": [
      "Processing data: 100%|██████████| 967/967 [00:10<00:00, 90.05it/s] \n"
     ]
    }
   ],
   "source": [
    "from tqdm.auto import tqdm\n",
    "data_ids = [\n",
    "    {\n",
    "        \"persona\":[tokenizer.encode(persona) for persona in instance['persona']],\n",
    "        \"conversation\":[tokenizer.encode(utterance) for utterance in instance['conversation']]\n",
    "    }\n",
    "    \n",
    "    for instance in tqdm(data_list,desc=\"Processing data\")\n",
    "]"
   ]
  },
  {
   "cell_type": "code",
   "execution_count": 123,
   "id": "e5b9b165",
   "metadata": {},
   "outputs": [
    {
     "data": {
      "text/plain": [
       "{'persona': [[0, 100, 95, 2162, 10, 1518, 92, 790, 4, 2],\n",
       "  [0, 100, 101, 7, 3836, 23, 5, 950, 4, 2],\n",
       "  [0, 100, 422, 10, 2335, 41227, 334, 4, 2],\n",
       "  [0, 100, 33, 10, 380, 4045, 13495, 4, 2],\n",
       "  [0, 100, 101, 602, 8, 6016, 842, 462, 16731, 4, 2]],\n",
       " 'conversation': [[0,\n",
       "   12105,\n",
       "   12289,\n",
       "   6,\n",
       "   38,\n",
       "   437,\n",
       "   646,\n",
       "   44518,\n",
       "   112,\n",
       "   18,\n",
       "   766,\n",
       "   8174,\n",
       "   653,\n",
       "   18,\n",
       "   110,\n",
       "   766,\n",
       "   116,\n",
       "   2],\n",
       "  [0,\n",
       "   5970,\n",
       "   102,\n",
       "   12289,\n",
       "   6,\n",
       "   38,\n",
       "   437,\n",
       "   646,\n",
       "   44518,\n",
       "   132,\n",
       "   18,\n",
       "   766,\n",
       "   8174,\n",
       "   85,\n",
       "   18,\n",
       "   2579,\n",
       "   7,\n",
       "   972,\n",
       "   47,\n",
       "   4,\n",
       "   2],\n",
       "  [0, 12105, 16911, 7, 972, 47, 350, 4, 653, 32, 47, 2509, 11, 116, 2],\n",
       "  [0,\n",
       "   5970,\n",
       "   102,\n",
       "   38,\n",
       "   101,\n",
       "   7,\n",
       "   972,\n",
       "   92,\n",
       "   82,\n",
       "   6,\n",
       "   310,\n",
       "   7017,\n",
       "   6664,\n",
       "   354,\n",
       "   14650,\n",
       "   6,\n",
       "   8,\n",
       "   1930,\n",
       "   86,\n",
       "   19,\n",
       "   127,\n",
       "   284,\n",
       "   4,\n",
       "   2],\n",
       "  [0,\n",
       "   12105,\n",
       "   2246,\n",
       "   32,\n",
       "   70,\n",
       "   372,\n",
       "   383,\n",
       "   7,\n",
       "   28,\n",
       "   2509,\n",
       "   11,\n",
       "   4,\n",
       "   38,\n",
       "   101,\n",
       "   7,\n",
       "   3836,\n",
       "   23,\n",
       "   5,\n",
       "   950,\n",
       "   6,\n",
       "   422,\n",
       "   10,\n",
       "   2335,\n",
       "   41227,\n",
       "   334,\n",
       "   6,\n",
       "   8,\n",
       "   3529,\n",
       "   10,\n",
       "   319,\n",
       "   9,\n",
       "   29842,\n",
       "   4,\n",
       "   2],\n",
       "  [0,\n",
       "   5970,\n",
       "   102,\n",
       "   280,\n",
       "   18,\n",
       "   2679,\n",
       "   4,\n",
       "   38,\n",
       "   348,\n",
       "   393,\n",
       "   1145,\n",
       "   1268,\n",
       "   54,\n",
       "   1237,\n",
       "   10,\n",
       "   2335,\n",
       "   41227,\n",
       "   334,\n",
       "   137,\n",
       "   4,\n",
       "   2],\n",
       "  [0,\n",
       "   12105,\n",
       "   85,\n",
       "   18,\n",
       "   10,\n",
       "   319,\n",
       "   9,\n",
       "   1531,\n",
       "   4,\n",
       "   38,\n",
       "   120,\n",
       "   7,\n",
       "   173,\n",
       "   19,\n",
       "   3678,\n",
       "   358,\n",
       "   183,\n",
       "   8,\n",
       "   244,\n",
       "   106,\n",
       "   1532,\n",
       "   141,\n",
       "   7,\n",
       "   18871,\n",
       "   4,\n",
       "   2],\n",
       "  [0, 5970, 102, 280, 4428, 101, 10, 372, 633, 4, 38, 657, 3678, 4, 2],\n",
       "  [0, 12105, 1464, 350, 328, 252, 214, 5, 275, 4, 2],\n",
       "  [0,\n",
       "   5970,\n",
       "   102,\n",
       "   38,\n",
       "   33,\n",
       "   10,\n",
       "   28522,\n",
       "   1440,\n",
       "   12134,\n",
       "   4,\n",
       "   91,\n",
       "   18,\n",
       "   127,\n",
       "   275,\n",
       "   1441,\n",
       "   4,\n",
       "   2],\n",
       "  [0,\n",
       "   12105,\n",
       "   38,\n",
       "   657,\n",
       "   27756,\n",
       "   328,\n",
       "   38,\n",
       "   341,\n",
       "   7,\n",
       "   33,\n",
       "   10,\n",
       "   28522,\n",
       "   77,\n",
       "   38,\n",
       "   21,\n",
       "   10,\n",
       "   4607,\n",
       "   4,\n",
       "   2],\n",
       "  [0, 5970, 102, 280, 18, 6344, 4, 653, 21, 63, 766, 116, 2],\n",
       "  [0, 12105, 832, 766, 21, 20683, 4, 91, 21, 10, 1275, 12, 24845, 29432, 4, 2],\n",
       "  [0, 5970, 102, 38, 657, 5, 766, 20683, 4, 85, 18, 98, 3035, 4, 2],\n",
       "  [0, 12105, 4557, 4, 38, 802, 98, 350, 4, 2],\n",
       "  [0,\n",
       "   5970,\n",
       "   102,\n",
       "   38,\n",
       "   437,\n",
       "   7785,\n",
       "   52,\n",
       "   1145,\n",
       "   4,\n",
       "   85,\n",
       "   18,\n",
       "   2579,\n",
       "   7,\n",
       "   1067,\n",
       "   7,\n",
       "   951,\n",
       "   54,\n",
       "   3829,\n",
       "   3678,\n",
       "   8,\n",
       "   27756,\n",
       "   4,\n",
       "   2],\n",
       "  [0,\n",
       "   12105,\n",
       "   1464,\n",
       "   350,\n",
       "   4,\n",
       "   85,\n",
       "   18,\n",
       "   460,\n",
       "   2579,\n",
       "   7,\n",
       "   972,\n",
       "   951,\n",
       "   54,\n",
       "   34,\n",
       "   1122,\n",
       "   3168,\n",
       "   4,\n",
       "   2],\n",
       "  [0, 5970, 102, 38, 1034, 52, 64, 6713, 66, 456, 11133, 4, 2],\n",
       "  [0,\n",
       "   12105,\n",
       "   38,\n",
       "   1017,\n",
       "   657,\n",
       "   14,\n",
       "   4,\n",
       "   166,\n",
       "   64,\n",
       "   213,\n",
       "   310,\n",
       "   7017,\n",
       "   6664,\n",
       "   354,\n",
       "   14650,\n",
       "   50,\n",
       "   120,\n",
       "   103,\n",
       "   2480,\n",
       "   6353,\n",
       "   4,\n",
       "   2],\n",
       "  [0, 5970, 102, 280, 4428, 101, 10, 563, 4, 2],\n",
       "  [0, 12105, 2860, 4, 38, 581, 2788, 47, 423, 4, 2],\n",
       "  [0, 5970, 102, 24661, 205, 4, 36255, 4, 2],\n",
       "  [0, 12105, 36255, 4, 2]]}"
      ]
     },
     "execution_count": 123,
     "metadata": {},
     "output_type": "execute_result"
    }
   ],
   "source": [
    "data_ids[0]"
   ]
  },
  {
   "cell_type": "code",
   "execution_count": 124,
   "id": "69524283",
   "metadata": {},
   "outputs": [
    {
     "data": {
      "text/plain": [
       "'<s>I just bought a brand new house.</s>'"
      ]
     },
     "execution_count": 124,
     "metadata": {},
     "output_type": "execute_result"
    }
   ],
   "source": [
    "tokenizer.decode(data_ids[0][\"persona\"][0])"
   ]
  },
  {
   "cell_type": "code",
   "execution_count": 125,
   "id": "01ce42c2",
   "metadata": {},
   "outputs": [
    {
     "data": {
      "text/plain": [
       "\"<s>user Hi, I'm [User 1's name]. What's your name?</s>\""
      ]
     },
     "execution_count": 125,
     "metadata": {},
     "output_type": "execute_result"
    }
   ],
   "source": [
    "tokenizer.decode(data_ids[0][\"conversation\"][0])"
   ]
  },
  {
   "cell_type": "markdown",
   "id": "e4bf52ff",
   "metadata": {},
   "source": [
    "#### 2.4 Adder Query and Response Tokens"
   ]
  },
  {
   "cell_type": "code",
   "execution_count": 126,
   "id": "c414e678",
   "metadata": {},
   "outputs": [],
   "source": [
    "for dat in data_ids:\n",
    "    for i, utter in enumerate(dat['conversation']):\n",
    "        if i % 2 == 0:\n",
    "            dat['conversation'][i] = [args[\"query\"]] + utter\n",
    "        else:\n",
    "            dat['conversation'][i] = [args[\"response\"]] + utter\n"
   ]
  },
  {
   "cell_type": "code",
   "execution_count": 127,
   "id": "5cd7dfbc",
   "metadata": {},
   "outputs": [
    {
     "name": "stdout",
     "output_type": "stream",
     "text": [
      "<query> <s>user Hi, I'm [User 1's name]. What's your name?</s>\n",
      "<response> <s>persona Hi, I'm [User 2's name]. It's nice to meet you.</s>\n",
      "<query> <s>user Nice to meet you too. What are you interested in?</s>\n",
      "<response> <s>persona I like to meet new people, play ultimate frisbee, and spend time with my family.</s>\n",
      "<query> <s>user Those are all great things to be interested in. I like to dance at the club, run a dog obedience school, and eat a lot of sweets.</s>\n",
      "<response> <s>persona That's interesting. I've never met anyone who runs a dog obedience school before.</s>\n",
      "<query> <s>user It's a lot of fun. I get to work with dogs every day and help them learn how to behave.</s>\n",
      "<response> <s>persona That sounds like a great job. I love dogs.</s>\n",
      "<query> <s>user Me too! They're the best.</s>\n",
      "<response> <s>persona I have a turtle named Timothy. He's my best friend.</s>\n",
      "<query> <s>user I love turtles! I used to have a turtle when I was a kid.</s>\n",
      "<response> <s>persona That's awesome. What was its name?</s>\n",
      "<query> <s>user His name was Leonardo. He was a red-eared slider.</s>\n",
      "<response> <s>persona I love the name Leonardo. It's so cool.</s>\n",
      "<query> <s>user Thanks. I thought so too.</s>\n",
      "<response> <s>persona I'm glad we met. It's nice to talk to someone who likes dogs and turtles.</s>\n",
      "<query> <s>user Me too. It's always nice to meet someone who has similar interests.</s>\n",
      "<response> <s>persona I hope we can hang out again sometime.</s>\n",
      "<query> <s>user I'd love that. We can go play ultimate frisbee or get some ice cream.</s>\n",
      "<response> <s>persona That sounds like a plan.</s>\n",
      "<query> <s>user Great. I'll text you later.</s>\n",
      "<response> <s>persona Sounds good. Bye.</s>\n",
      "<query> <s>user Bye.</s>\n"
     ]
    }
   ],
   "source": [
    "for dat in data_ids[0]['conversation']:\n",
    "    print(tokenizer.decode(dat))"
   ]
  },
  {
   "cell_type": "markdown",
   "id": "94362726",
   "metadata": {},
   "source": [
    "### 3. Data Structiong with Fixed window Size"
   ]
  },
  {
   "cell_type": "code",
   "execution_count": 128,
   "id": "74225afc",
   "metadata": {},
   "outputs": [],
   "source": [
    "def get_history_windows(data, window_size=5):\n",
    "    history_windows = []\n",
    "    labels = []\n",
    "    for i in range(len(data) - 1):\n",
    "        if data[i][0] == args[\"query\"]:\n",
    "            window = []\n",
    "            # add the query itself first\n",
    "            window.append(data[i])\n",
    "\n",
    "            # move backwards and collect previous turns (up to window_size)\n",
    "            j = i - 1\n",
    "            while j >= 0 and len(window) < window_size:\n",
    "                window.insert(0, data[j])\n",
    "                j -= 1\n",
    "            \n",
    "            history_windows.append(window)\n",
    "            labels.append(data[i + 1])\n",
    "\n",
    "    return history_windows,labels"
   ]
  },
  {
   "cell_type": "code",
   "execution_count": 129,
   "id": "968004f5",
   "metadata": {},
   "outputs": [],
   "source": [
    "window_size = 5\n",
    "history_windows, labels = get_history_windows(data_ids[0]['conversation'], window_size=window_size)"
   ]
  },
  {
   "cell_type": "markdown",
   "id": "c3793d84",
   "metadata": {},
   "source": [
    "#### Data Structure\n",
    "[latent][personality][query][response] "
   ]
  },
  {
   "cell_type": "code",
   "execution_count": 130,
   "id": "3a061b68",
   "metadata": {},
   "outputs": [],
   "source": [
    "from itertools import chain\n",
    "\n",
    "train_data = []\n",
    "\n",
    "for instance in data_ids:\n",
    "    history_windows, labels = get_history_windows(instance['conversation'],window_size=5)\n",
    "\n",
    "    for window, label in zip(history_windows, labels):\n",
    "        train_data.append({\n",
    "            \"input_ids\": [args[\"latent\"], args[\"persona\"]] \n",
    "                          + list(chain.from_iterable(instance['persona'])) \n",
    "                          + list(chain.from_iterable(window)),\n",
    "            \"labels\": label\n",
    "        })\n"
   ]
  },
  {
   "cell_type": "code",
   "execution_count": 131,
   "id": "7bdd4fc6",
   "metadata": {},
   "outputs": [
    {
     "name": "stdout",
     "output_type": "stream",
     "text": [
      "Input IDs - Avg: 120.30000763184003 Min: 35 Max: 339\n",
      "Labels     - Avg: 16.93703731969778 Min: 4 Max: 88\n"
     ]
    },
    {
     "data": {
      "image/png": "[encoded data removed]",
      "text/plain": [
       "<Figure size 1200x500 with 1 Axes>"
      ]
     },
     "metadata": {},
     "output_type": "display_data"
    },
    {
     "data": {
      "image/png": "[encoded data removed]",
      "text/plain": [
       "<Figure size 1200x500 with 1 Axes>"
      ]
     },
     "metadata": {},
     "output_type": "display_data"
    }
   ],
   "source": [
    "import matplotlib.pyplot as plt\n",
    "import numpy as np\n",
    "\n",
    "# Extract lengths\n",
    "input_lengths = [len(entry[\"input_ids\"]) for entry in train_data]\n",
    "label_lengths = [len(entry[\"labels\"]) for entry in train_data]\n",
    "\n",
    "# Calculate stats\n",
    "input_avg = np.mean(input_lengths)\n",
    "input_min = np.min(input_lengths)\n",
    "input_max = np.max(input_lengths)\n",
    "\n",
    "label_avg = np.mean(label_lengths)\n",
    "label_min = np.min(label_lengths)\n",
    "label_max = np.max(label_lengths)\n",
    "\n",
    "# Print statistics\n",
    "print(\"Input IDs - Avg:\", input_avg, \"Min:\", input_min, \"Max:\", input_max)\n",
    "print(\"Labels     - Avg:\", label_avg, \"Min:\", label_min, \"Max:\", label_max)\n",
    "\n",
    "# Plot input_ids lengths\n",
    "plt.figure(figsize=(12, 5))\n",
    "plt.plot(input_lengths, color='blue', label=\"input_ids length\")\n",
    "plt.axhline(input_avg, color='red', linestyle='--', label=f'Avg = {input_avg:.2f}')\n",
    "plt.xlabel(\"Input Index\")\n",
    "plt.ylabel(\"Length\")\n",
    "plt.title(\"Length of input_ids in train_data\")\n",
    "plt.legend()\n",
    "plt.grid(True)\n",
    "plt.show()\n",
    "\n",
    "# Plot labels lengths\n",
    "plt.figure(figsize=(12, 5))\n",
    "plt.plot(label_lengths, color='green', label=\"labels length\")\n",
    "plt.axhline(label_avg, color='red', linestyle='--', label=f'Avg = {label_avg:.2f}')\n",
    "plt.xlabel(\"Input Index\")\n",
    "plt.ylabel(\"Length\")\n",
    "plt.title(\"Length of labels in train_data\")\n",
    "plt.legend()\n",
    "plt.grid(True)\n",
    "plt.show()\n"
   ]
  },
  {
   "cell_type": "markdown",
   "id": "1314a444",
   "metadata": {},
   "source": [
    "### 4 saving the Processed Data"
   ]
  },
  {
   "cell_type": "code",
   "execution_count": 132,
   "id": "a5387d8e",
   "metadata": {},
   "outputs": [],
   "source": [
    "# train_data_path_processed = \"../data/processed_data/train.pkl\"\n",
    "# test_data_path_processed = \"../data/processed_data/test.csv\"   \n",
    "# validation_data_path_processed = \"../data/processed_data/valid.csv\"\n",
    "import pickle\n",
    "with open(test_data_path_processed, 'wb') as f_val:\n",
    "    pickle.dump(train_data, f_val)"
   ]
  }
 ],
 "metadata": {
  "kernelspec": {
   "display_name": "venv",
   "language": "python",
   "name": "python3"
  },
  "language_info": {
   "codemirror_mode": {
    "name": "ipython",
    "version": 3
   },
   "file_extension": ".py",
   "mimetype": "text/x-python",
   "name": "python",
   "nbconvert_exporter": "python",
   "pygments_lexer": "ipython3",
   "version": "3.12.7"
  }
 },
 "nbformat": 4,
 "nbformat_minor": 5
}
