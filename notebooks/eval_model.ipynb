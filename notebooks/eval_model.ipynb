{
 "cells": [
  {
   "cell_type": "code",
   "execution_count": 6,
   "id": "542ec86e",
   "metadata": {},
   "outputs": [
    {
     "name": "stdout",
     "output_type": "stream",
     "text": [
      "Average F1 Score: 0.4048\n"
     ]
    },
    {
     "name": "stderr",
     "output_type": "stream",
     "text": [
      "Some weights of RobertaModel were not initialized from the model checkpoint at roberta-base and are newly initialized: ['pooler.dense.bias', 'pooler.dense.weight']\n",
      "You should probably TRAIN this model on a down-stream task to be able to use it for predictions and inference.\n"
     ]
    },
    {
     "name": "stdout",
     "output_type": "stream",
     "text": [
      "Average BERTScore (F1): 0.9469\n",
      "Average BLEU Score: 0.1257\n"
     ]
    }
   ],
   "source": [
    "import numpy as np\n",
    "from evaluate import load\n",
    "from bert_score import score as bert_score\n",
    "from nltk.translate.bleu_score import sentence_bleu, SmoothingFunction\n",
    "\n",
    "# Example data format\n",
    "sample_data = [\n",
    "    {\n",
    "        \"model_output\": \"I enjoy hiking in the mountains.\",\n",
    "        \"actual_output\": \"I love hiking in the Rockies.\"\n",
    "    },\n",
    "    {\n",
    "        \"model_output\": \"My favorite hobby is reading books.\",\n",
    "        \"actual_output\": \"I adore reading novels in my free time.\"\n",
    "    }\n",
    "]\n",
    "\n",
    "# ----------------------------------------\n",
    "# 1. Calculate F1 Score (Token Overlap)\n",
    "# ----------------------------------------\n",
    "def compute_f1(pred_tokens, true_tokens):\n",
    "    common_tokens = set(pred_tokens) & set(true_tokens)\n",
    "    if len(common_tokens) == 0:\n",
    "        return 0.0\n",
    "    precision = len(common_tokens) / len(pred_tokens)\n",
    "    recall = len(common_tokens) / len(true_tokens)\n",
    "    return 2 * (precision * recall) / (precision + recall) if (precision + recall) != 0 else 0\n",
    "\n",
    "f1_scores = []\n",
    "for entry in sample_data:\n",
    "    pred = entry[\"model_output\"].split()\n",
    "    true = entry[\"actual_output\"].split()\n",
    "    f1_scores.append(compute_f1(pred, true))\n",
    "\n",
    "avg_f1 = np.mean(f1_scores)\n",
    "print(f\"Average F1 Score: {avg_f1:.4f}\")\n",
    "\n",
    "# ----------------------------------------\n",
    "# 2. Calculate BERTScore (Semantic Similarity)\n",
    "# ----------------------------------------\n",
    "# Install: pip install bert-score\n",
    "preds = [entry[\"model_output\"] for entry in sample_data]\n",
    "refs = [entry[\"actual_output\"] for entry in sample_data]\n",
    "\n",
    "# Compute BERTScore (F1 variant)\n",
    "P, R, F1 = bert_score(preds, refs, lang=\"en\", model_type=\"roberta-base\")\n",
    "avg_bertscore = F1.mean().item()\n",
    "print(f\"Average BERTScore (F1): {avg_bertscore:.4f}\")\n",
    "\n",
    "# ----------------------------------------\n",
    "# 3. Calculate BLEU Score (N-Gram Overlap)\n",
    "# ----------------------------------------\n",
    "# Install: pip install nltk\n",
    "from nltk.tokenize import word_tokenize\n",
    "\n",
    "bleu_scores = []\n",
    "smoother = SmoothingFunction().method4  # Handle short sentences\n",
    "\n",
    "for entry in sample_data:\n",
    "    pred_tokens = word_tokenize(entry[\"model_output\"].lower())\n",
    "    true_tokens = [word_tokenize(entry[\"actual_output\"].lower())]  # BLEU expects list of references\n",
    "    bleu = sentence_bleu(true_tokens, pred_tokens, smoothing_function=smoother)\n",
    "    bleu_scores.append(bleu)\n",
    "\n",
    "avg_bleu = np.mean(bleu_scores)\n",
    "print(f\"Average BLEU Score: {avg_bleu:.4f}\")"
   ]
  }
 ],
 "metadata": {
  "kernelspec": {
   "display_name": "venv",
   "language": "python",
   "name": "python3"
  },
  "language_info": {
   "codemirror_mode": {
    "name": "ipython",
    "version": 3
   },
   "file_extension": ".py",
   "mimetype": "text/x-python",
   "name": "python",
   "nbconvert_exporter": "python",
   "pygments_lexer": "ipython3",
   "version": "3.12.7"
  }
 },
 "nbformat": 4,
 "nbformat_minor": 5
}
